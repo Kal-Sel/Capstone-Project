{
 "cells": [
  {
   "cell_type": "markdown",
   "metadata": {},
   "source": [
    "<center><a href=\"New York City\"><img src = \"https://cdn.pixabay.com/photo/2016/07/31/09/53/munich-1558705_960_720.jpg\" width = 800> </a>\n",
    "\n",
    "<h1 align=center><font size = 5>The Battle Of Neighborhoods</font></h1>\n",
    "<h1 align=center><font size = 5>Airbnb price prediction in Munich</h1>\n",
    "<h1 align=center><font size = 4>by Selmir Kalender</font></h1>"
   ]
  },
  {
   "cell_type": "markdown",
   "metadata": {},
   "source": [
    "## About\n",
    "Over the course of two weeks, I had the opportunity to be as creative as I wanted to be and come up with an idea to leverage the Foursquare location data to explore or compare neighborhoods or cities of my choice or to come up with a problem where I could use the Foursquare location data to solve the problem.\n",
    "No matter what I've decided to do, I had to make sure to provide sufficient justification of why I thought what I've wanted to do or solve was important and why would a client or a group of people be interested in my project."
   ]
  },
  {
   "cell_type": "markdown",
   "metadata": {},
   "source": [
    "<H2>Table of Contents</H2>\n",
    "1. <a href=\"#item1\">Introduction</a><br>\n",
    "2. <a href=\"#item2\">Business Background</a><br>  \n",
    "3. <a href=\"#item3\">Target Audience</a><br>  \n",
    "4. <a href=\"#item4\">Data Overview</a><br>  \n",
    "5. <a href=\"#item5\">Methodology</a><br> \n",
    "6. <a href=\"#item6\">Results</a><br>\n",
    "7. <a href=\"#item7\">Conclusion</a><br>\n",
    "8. <a href=\"#item8\">References</a><br>\n"
   ]
  },
  {
   "cell_type": "markdown",
   "metadata": {},
   "source": [
    "## 1. Introduction\n",
    "\n",
    "Airbnb is a internet marketplace for short-term home and apartment rentals. It allows you to, for example, rent out your home for a week while you’re away, or rent out your empty bedroom. One challenge that Airbnb hosts face is determining the optimal nightly rent price. In many areas, renters are presented with a good selection of listings and can filter by criteria like price, number of bedrooms, room type, and more. Since Airbnb is a market, the amount a host can charge is ultimately tied to market prices."
   ]
  },
  {
   "cell_type": "markdown",
   "metadata": {},
   "source": [
    "## 2. Business Background\n",
    "\n",
    "Although Airbnb provides hosts with general guidance, there are no easy to access methods to determine the best price to rent out a space. There is third-party software available, but for a hefty price (see an example on available software, click [here](https://beyondpricing.com/)).\n",
    "\n",
    "One method could be to find a few listings that are similar to the place that will be up for rent, average the listed prices and set our price to this calculated average price. However, with the market being so dynamic, we would probably be looking to update the price regularly and this method can become tedious.\n",
    "\n",
    "Moreover, this may not be very accurate, as we are not taking into account other important factors that may give us a comparative advantage over other listings around us. This could be property characteristics such as number of rooms, bathrooms and extra services on offer.\n",
    "\n",
    "The aim of this project is to propose a data-driven solution, by using machine learning to predict rental price.\n",
    "\n",
    "For this project, a predictor based on space will be introduced to the model: the property's proximity to certain venues. This will allow the model to put an implicit price on things such as living close to a bar or a supermarket."
   ]
  },
  {
   "cell_type": "markdown",
   "metadata": {},
   "source": [
    "## 3. Target Audience\n",
    "Who will be beneficial from this project:\n",
    "* *Hosts* who are interested to identify the market value for their apartments or rooms\n",
    "* *Tourists* who would want to compare different hosts to find the best solution for themselves\n",
    "* *Data Analysts/Scientists* who can view the analysis for this project and can get inspired to implement in other different problems using the techniques and ideas used here."
   ]
  },
  {
   "cell_type": "markdown",
   "metadata": {},
   "source": [
    "## 4. Data Overview\n",
    "Airbnb does not release any data on the listings in its marketplace, a but separate group named [Inside Airbnb](http://insideairbnb.com/get-the-data.html) scrapes and compiles publicly available information about many cities Airbnb's listings from the Airbnb web-site. For this project, their data set scraped on May 24, 2020, on the city of Munich, Germany, is used. It contains information on all Munich Airbnb listings that were live on the site on that date (over 9,000). Here's a direct [link](http://insideairbnb.com/munich/).\n",
    "\n",
    "The data has certain limitations. The most noticeable one is that it scrapes the advertised price rather than the actual price paid by previous customers. More accurate data is available for a fee in sites like [AirDNA](https://www.airdna.co/).\n",
    "\n",
    "Each row in the dataset is a listing available for rental in Airbnb's site for the specific city (observations). The columns describe different characteristics of each listing (features).\n",
    "\n",
    "Some of the more important features this project will look into are the following:\n",
    "\n",
    "* accommodates: the number of guests the rental can accommodate\n",
    "* bedrooms: number of bedrooms included in the rental\n",
    "* bathrooms: number of bathrooms included in the rental\n",
    "* beds: number of beds included in the rental\n",
    "* price: nightly price for the rental\n",
    "* minimum_nights: minimum number of nights a guest can stay for the rental\n",
    "* maximum_nights: maximum number of nights a guest can stay for the rental\n",
    "* number_of_reviews: number of reviews that previous guests have left\n",
    "\n",
    "To model the spatial relationship between Airbnb rental prices and property proximity to certain venues, we use the [Foursquare API](https://developer.foursquare.com/) to access the city's venues and the street network."
   ]
  },
  {
   "cell_type": "code",
   "execution_count": null,
   "metadata": {},
   "outputs": [],
   "source": []
  }
 ],
 "metadata": {
  "kernelspec": {
   "display_name": "Python",
   "language": "python",
   "name": "conda-env-python-py"
  },
  "language_info": {
   "codemirror_mode": {
    "name": "ipython",
    "version": 3
   },
   "file_extension": ".py",
   "mimetype": "text/x-python",
   "name": "python",
   "nbconvert_exporter": "python",
   "pygments_lexer": "ipython3",
   "version": "3.6.10"
  }
 },
 "nbformat": 4,
 "nbformat_minor": 4
}
